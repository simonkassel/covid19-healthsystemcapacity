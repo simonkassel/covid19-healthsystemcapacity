{
 "cells": [
  {
   "cell_type": "markdown",
   "metadata": {
    "colab_type": "text",
    "id": "view-in-github"
   },
   "source": [
    "<a href=\"https://colab.research.google.com/github/daveluo/covid19-healthsystemcapacity/blob/master/nbs/usa_beds_capacity_analysis_20200313_v2.ipynb\" target=\"_parent\"><img src=\"https://colab.research.google.com/assets/colab-badge.svg\" alt=\"Open In Colab\"/></a>"
   ]
  },
  {
   "cell_type": "code",
   "execution_count": 1,
   "metadata": {},
   "outputs": [],
   "source": [
    "%matplotlib inline"
   ]
  },
  {
   "cell_type": "code",
   "execution_count": null,
   "metadata": {},
   "outputs": [],
   "source": [
    "!pip install us"
   ]
  },
  {
   "cell_type": "code",
   "execution_count": 2,
   "metadata": {
    "colab": {},
    "colab_type": "code",
    "id": "d9RAlTvqWdn1"
   },
   "outputs": [],
   "source": [
    "import geopandas as gpd\n",
    "import pandas as pd\n",
    "import numpy as np\n",
    "from shapely.geometry import shape\n",
    "from urllib.request import urlopen \n",
    "import json\n",
    "import os\n",
    "from subprocess import call\n",
    "from os.path import basename, isfile\n",
    "from shutil import rmtree"
   ]
  },
  {
   "cell_type": "code",
   "execution_count": 3,
   "metadata": {},
   "outputs": [],
   "source": [
    "def gdf_from_geojson(geojson, crs={'init':'epsg:4326'}):\n",
    "    \"\"\"Convert a GeoJSON dict to GeoDataFrame\"\"\"\n",
    "    def _f(f):\n",
    "        f['properties']['geometry'] = shape(f['geometry'])\n",
    "        return f['properties']\n",
    "    \n",
    "    return gpd.GeoDataFrame([_f(f) for f in geojson['features']])"
   ]
  },
  {
   "cell_type": "markdown",
   "metadata": {},
   "source": [
    "counties"
   ]
  },
  {
   "cell_type": "code",
   "execution_count": 4,
   "metadata": {},
   "outputs": [],
   "source": [
    "with urlopen(\"https://eric.clst.org/assets/wiki/uploads/Stuff/gz_2010_us_050_00_20m.json\") as url:\n",
    "    data = json.loads(url.read().decode(\"ISO-8859-1\"))\n",
    "counties = gdf_from_geojson(data)"
   ]
  },
  {
   "cell_type": "markdown",
   "metadata": {},
   "source": [
    "states"
   ]
  },
  {
   "cell_type": "code",
   "execution_count": 5,
   "metadata": {},
   "outputs": [],
   "source": [
    "state_pop = pd.read_csv('http://www2.census.gov/programs-surveys/popest/datasets/2010-2019/national/totals/nst-est2019-alldata.csv')"
   ]
  },
  {
   "cell_type": "code",
   "execution_count": 71,
   "metadata": {},
   "outputs": [
    {
     "ename": "NameError",
     "evalue": "name 'states' is not defined",
     "output_type": "error",
     "traceback": [
      "\u001b[0;31m---------------------------------------------------------------------------\u001b[0m",
      "\u001b[0;31mNameError\u001b[0m                                 Traceback (most recent call last)",
      "\u001b[0;32m<ipython-input-71-1fad23fdbdfe>\u001b[0m in \u001b[0;36m<module>\u001b[0;34m\u001b[0m\n\u001b[0;32m----> 1\u001b[0;31m \u001b[0mstates\u001b[0m\u001b[0;34m\u001b[0m\u001b[0;34m\u001b[0m\u001b[0m\n\u001b[0m",
      "\u001b[0;31mNameError\u001b[0m: name 'states' is not defined"
     ]
    }
   ],
   "source": [
    "states"
   ]
  },
  {
   "cell_type": "markdown",
   "metadata": {},
   "source": [
    "hr boundary"
   ]
  },
  {
   "cell_type": "code",
   "execution_count": 6,
   "metadata": {},
   "outputs": [],
   "source": [
    "hr_bdry_file = 'https://atlasdata.dartmouth.edu/downloads/geography/hrr_bdry.zip'"
   ]
  },
  {
   "cell_type": "code",
   "execution_count": 28,
   "metadata": {},
   "outputs": [],
   "source": [
    "if isfile(basename(hr_bdry_file)):\n",
    "    os.remove(basename(hr_bdry_file))\n",
    "if os.path.isdir('temp'):\n",
    "    rmtree('temp')\n",
    "call('wget {0} && mkdir temp && unzip {1} -d temp && rm {1} && mv temp/HRR_BDRY.DBF temp/HRR_Bdry.DBF'.format(hr_bdry_file, basename(hr_bdry_file)), shell=True)\n",
    "hrr = gpd.read_file('temp/HRR_Bdry.SHP')\n",
    "hrr.crs = 'epsg:4326'\n",
    "rmtree('temp')"
   ]
  },
  {
   "cell_type": "markdown",
   "metadata": {},
   "source": [
    "hospitals"
   ]
  },
  {
   "cell_type": "code",
   "execution_count": 66,
   "metadata": {
    "colab": {},
    "colab_type": "code",
    "id": "WqvCZOd_WsCy"
   },
   "outputs": [],
   "source": [
    "hosp_gdf = gpd.read_file('../data/usa_facilities_hcris_geocoded.geojson')"
   ]
  },
  {
   "cell_type": "code",
   "execution_count": 70,
   "metadata": {},
   "outputs": [
    {
     "data": {
      "text/plain": [
       "(6661, 36)"
      ]
     },
     "execution_count": 70,
     "metadata": {},
     "output_type": "execute_result"
    }
   ],
   "source": [
    "gpd.read_file('../data/usa_hospital_beds_hcris2018_cleaned3.geojson').shape"
   ]
  },
  {
   "cell_type": "markdown",
   "metadata": {},
   "source": [
    "aggregation"
   ]
  },
  {
   "cell_type": "code",
   "execution_count": 59,
   "metadata": {
    "colab": {
     "base_uri": "https://localhost:8080/",
     "height": 33
    },
    "colab_type": "code",
    "id": "HHjYBSbKXOcJ",
    "outputId": "5025d5eb-bef5-475e-b50e-538f6e8a333d",
    "scrolled": true
   },
   "outputs": [
    {
     "data": {
      "text/html": [
       "<div>\n",
       "<style scoped>\n",
       "    .dataframe tbody tr th:only-of-type {\n",
       "        vertical-align: middle;\n",
       "    }\n",
       "\n",
       "    .dataframe tbody tr th {\n",
       "        vertical-align: top;\n",
       "    }\n",
       "\n",
       "    .dataframe thead th {\n",
       "        text-align: right;\n",
       "    }\n",
       "</style>\n",
       "<table border=\"1\" class=\"dataframe\">\n",
       "  <thead>\n",
       "    <tr style=\"text-align: right;\">\n",
       "      <th></th>\n",
       "      <th>PROVIDER_NUMBER</th>\n",
       "      <th>FYB</th>\n",
       "      <th>FYE</th>\n",
       "      <th>STATUS</th>\n",
       "      <th>CTRL_TYPE</th>\n",
       "      <th>HOSP10_Name</th>\n",
       "      <th>Street_Addr</th>\n",
       "      <th>PO_Box</th>\n",
       "      <th>City</th>\n",
       "      <th>State</th>\n",
       "      <th>...</th>\n",
       "      <th>Coronary Care Unit Inpt Days</th>\n",
       "      <th>Burn ICU Inpt Days</th>\n",
       "      <th>Surgical ICU Inpt Days</th>\n",
       "      <th>Total Inpt Days</th>\n",
       "      <th>ICU Total Beds</th>\n",
       "      <th>ICU Total Bed Days Available</th>\n",
       "      <th>ICU Total Inpt Days</th>\n",
       "      <th>ICU Occupancy Rate</th>\n",
       "      <th>Total Bed Occupancy Rate</th>\n",
       "      <th>geometry</th>\n",
       "    </tr>\n",
       "  </thead>\n",
       "  <tbody>\n",
       "    <tr>\n",
       "      <th>0</th>\n",
       "      <td>010001</td>\n",
       "      <td>01-OCT-17</td>\n",
       "      <td>30-SEP-18</td>\n",
       "      <td>As Submitted</td>\n",
       "      <td>9</td>\n",
       "      <td>SOUTHEAST HEALTH MEDICAL CENTER</td>\n",
       "      <td>1108 ROSS CLARK CIRCLE</td>\n",
       "      <td>6987</td>\n",
       "      <td>DOTHAN</td>\n",
       "      <td>AL</td>\n",
       "      <td>...</td>\n",
       "      <td>0.0</td>\n",
       "      <td>0.0</td>\n",
       "      <td>0.0</td>\n",
       "      <td>95560.0</td>\n",
       "      <td>40.0</td>\n",
       "      <td>14600.0</td>\n",
       "      <td>11992.0</td>\n",
       "      <td>0.821370</td>\n",
       "      <td>0.800637</td>\n",
       "      <td>POINT (-85.36253 31.21591)</td>\n",
       "    </tr>\n",
       "    <tr>\n",
       "      <th>1</th>\n",
       "      <td>010005</td>\n",
       "      <td>01-OCT-17</td>\n",
       "      <td>30-SEP-18</td>\n",
       "      <td>As Submitted</td>\n",
       "      <td>9</td>\n",
       "      <td>MARSHALL MEDICAL CENTER - SOUTH</td>\n",
       "      <td>2505 U.S. HIGHWAY 431</td>\n",
       "      <td>None</td>\n",
       "      <td>BOAZ</td>\n",
       "      <td>AL</td>\n",
       "      <td>...</td>\n",
       "      <td>0.0</td>\n",
       "      <td>0.0</td>\n",
       "      <td>0.0</td>\n",
       "      <td>38089.0</td>\n",
       "      <td>20.0</td>\n",
       "      <td>7300.0</td>\n",
       "      <td>5283.0</td>\n",
       "      <td>0.723699</td>\n",
       "      <td>0.511536</td>\n",
       "      <td>POINT (-86.16006 34.22140)</td>\n",
       "    </tr>\n",
       "    <tr>\n",
       "      <th>2</th>\n",
       "      <td>010006</td>\n",
       "      <td>01-JUL-18</td>\n",
       "      <td>30-JUN-19</td>\n",
       "      <td>As Submitted</td>\n",
       "      <td>4</td>\n",
       "      <td>NORTH ALABAMA MEDICAL CENTER</td>\n",
       "      <td>1701 VETERANS DRIVE</td>\n",
       "      <td>818</td>\n",
       "      <td>FLORENCE</td>\n",
       "      <td>AL</td>\n",
       "      <td>...</td>\n",
       "      <td>7515.0</td>\n",
       "      <td>0.0</td>\n",
       "      <td>0.0</td>\n",
       "      <td>61969.0</td>\n",
       "      <td>52.0</td>\n",
       "      <td>18368.0</td>\n",
       "      <td>13247.0</td>\n",
       "      <td>0.721200</td>\n",
       "      <td>0.594883</td>\n",
       "      <td>POINT (-87.65095 34.80439)</td>\n",
       "    </tr>\n",
       "    <tr>\n",
       "      <th>3</th>\n",
       "      <td>010007</td>\n",
       "      <td>01-OCT-17</td>\n",
       "      <td>30-SEP-18</td>\n",
       "      <td>As Submitted</td>\n",
       "      <td>9</td>\n",
       "      <td>MIZELL MEMORIAL HOSPITAL</td>\n",
       "      <td>702 MAIN STREET</td>\n",
       "      <td>429</td>\n",
       "      <td>OPP</td>\n",
       "      <td>AL</td>\n",
       "      <td>...</td>\n",
       "      <td>0.0</td>\n",
       "      <td>0.0</td>\n",
       "      <td>0.0</td>\n",
       "      <td>4571.0</td>\n",
       "      <td>5.0</td>\n",
       "      <td>1825.0</td>\n",
       "      <td>1126.0</td>\n",
       "      <td>0.616986</td>\n",
       "      <td>0.278295</td>\n",
       "      <td>POINT (-86.25417 31.29198)</td>\n",
       "    </tr>\n",
       "    <tr>\n",
       "      <th>4</th>\n",
       "      <td>010008</td>\n",
       "      <td>01-JAN-18</td>\n",
       "      <td>31-DEC-18</td>\n",
       "      <td>As Submitted</td>\n",
       "      <td>4</td>\n",
       "      <td>CRENSHAW COMMUNITY HOSPITAL</td>\n",
       "      <td>CRENSHAW COMMUNITY HOSPITAL</td>\n",
       "      <td>101 HOSPITAL CIRCLE</td>\n",
       "      <td>LUVERNE</td>\n",
       "      <td>AL</td>\n",
       "      <td>...</td>\n",
       "      <td>0.0</td>\n",
       "      <td>0.0</td>\n",
       "      <td>0.0</td>\n",
       "      <td>1334.0</td>\n",
       "      <td>0.0</td>\n",
       "      <td>0.0</td>\n",
       "      <td>0.0</td>\n",
       "      <td>NaN</td>\n",
       "      <td>0.126027</td>\n",
       "      <td>POINT (-86.26472 31.69361)</td>\n",
       "    </tr>\n",
       "  </tbody>\n",
       "</table>\n",
       "<p>5 rows × 36 columns</p>\n",
       "</div>"
      ],
      "text/plain": [
       "  PROVIDER_NUMBER        FYB        FYE        STATUS  CTRL_TYPE  \\\n",
       "0          010001  01-OCT-17  30-SEP-18  As Submitted          9   \n",
       "1          010005  01-OCT-17  30-SEP-18  As Submitted          9   \n",
       "2          010006  01-JUL-18  30-JUN-19  As Submitted          4   \n",
       "3          010007  01-OCT-17  30-SEP-18  As Submitted          9   \n",
       "4          010008  01-JAN-18  31-DEC-18  As Submitted          4   \n",
       "\n",
       "                       HOSP10_Name                  Street_Addr  \\\n",
       "0  SOUTHEAST HEALTH MEDICAL CENTER       1108 ROSS CLARK CIRCLE   \n",
       "1  MARSHALL MEDICAL CENTER - SOUTH        2505 U.S. HIGHWAY 431   \n",
       "2     NORTH ALABAMA MEDICAL CENTER          1701 VETERANS DRIVE   \n",
       "3         MIZELL MEMORIAL HOSPITAL              702 MAIN STREET   \n",
       "4      CRENSHAW COMMUNITY HOSPITAL  CRENSHAW COMMUNITY HOSPITAL   \n",
       "\n",
       "                PO_Box      City State  ... Coronary Care Unit Inpt Days  \\\n",
       "0                 6987    DOTHAN    AL  ...                          0.0   \n",
       "1                 None      BOAZ    AL  ...                          0.0   \n",
       "2                  818  FLORENCE    AL  ...                       7515.0   \n",
       "3                  429       OPP    AL  ...                          0.0   \n",
       "4  101 HOSPITAL CIRCLE   LUVERNE    AL  ...                          0.0   \n",
       "\n",
       "  Burn ICU Inpt Days  Surgical ICU Inpt Days  Total Inpt Days  ICU Total Beds  \\\n",
       "0                0.0                     0.0          95560.0            40.0   \n",
       "1                0.0                     0.0          38089.0            20.0   \n",
       "2                0.0                     0.0          61969.0            52.0   \n",
       "3                0.0                     0.0           4571.0             5.0   \n",
       "4                0.0                     0.0           1334.0             0.0   \n",
       "\n",
       "   ICU Total Bed Days Available  ICU Total Inpt Days  ICU Occupancy Rate  \\\n",
       "0                       14600.0              11992.0            0.821370   \n",
       "1                        7300.0               5283.0            0.723699   \n",
       "2                       18368.0              13247.0            0.721200   \n",
       "3                        1825.0               1126.0            0.616986   \n",
       "4                           0.0                  0.0                 NaN   \n",
       "\n",
       "   Total Bed Occupancy Rate                    geometry  \n",
       "0                  0.800637  POINT (-85.36253 31.21591)  \n",
       "1                  0.511536  POINT (-86.16006 34.22140)  \n",
       "2                  0.594883  POINT (-87.65095 34.80439)  \n",
       "3                  0.278295  POINT (-86.25417 31.29198)  \n",
       "4                  0.126027  POINT (-86.26472 31.69361)  \n",
       "\n",
       "[5 rows x 36 columns]"
      ]
     },
     "execution_count": 59,
     "metadata": {},
     "output_type": "execute_result"
    }
   ],
   "source": [
    "hosp_gdf.head()"
   ]
  },
  {
   "cell_type": "code",
   "execution_count": 50,
   "metadata": {
    "colab": {
     "base_uri": "https://localhost:8080/",
     "height": 212
    },
    "colab_type": "code",
    "id": "Wk0GmuZwBEE4",
    "outputId": "d4e2ab17-91b2-420d-cef9-45a0ec57f5ff"
   },
   "outputs": [
    {
     "data": {
      "text/plain": [
       "1025    2753.0\n",
       "3900    2272.0\n",
       "5537    1560.0\n",
       "1024    1468.0\n",
       "3958    1468.0\n",
       "         ...  \n",
       "6620       NaN\n",
       "6627       NaN\n",
       "6640       NaN\n",
       "6650       NaN\n",
       "6656       NaN\n",
       "Name: Total Beds, Length: 6661, dtype: float64"
      ]
     },
     "execution_count": 50,
     "metadata": {},
     "output_type": "execute_result"
    }
   ],
   "source": [
    "hosp_gdf['Total Beds'].sort_values(ascending=False)"
   ]
  },
  {
   "cell_type": "code",
   "execution_count": 51,
   "metadata": {
    "colab": {
     "base_uri": "https://localhost:8080/",
     "height": 66
    },
    "colab_type": "code",
    "id": "tsY-3cpMXQI0",
    "outputId": "477da1bb-5851-4e09-80ca-2430a1d1c332"
   },
   "outputs": [
    {
     "data": {
      "text/plain": [
       "Total Beds        742562.0\n",
       "ICU Total Beds     74688.0\n",
       "dtype: float64"
      ]
     },
     "execution_count": 51,
     "metadata": {},
     "output_type": "execute_result"
    }
   ],
   "source": [
    "hosp_gdf[['Total Beds', 'ICU Total Beds']].sum()"
   ]
  },
  {
   "cell_type": "code",
   "execution_count": 52,
   "metadata": {
    "colab": {},
    "colab_type": "code",
    "id": "V9Q7c1FuXaHt"
   },
   "outputs": [
    {
     "name": "stderr",
     "output_type": "stream",
     "text": [
      "<ipython-input-52-d19c5432f5fb>:1: FutureWarning: Indexing with multiple keys (implicitly converted to a tuple of keys) will be deprecated, use a list instead.\n",
      "  hosp_county_gdf = hosp_gdf.groupby(['State','County'], as_index='False')['ICU Total Beds', 'Total Beds'].sum().reset_index()\n"
     ]
    }
   ],
   "source": [
    "hosp_county_gdf = hosp_gdf.groupby(['State','County'], as_index='False')['ICU Total Beds', 'Total Beds'].sum().reset_index()"
   ]
  },
  {
   "cell_type": "code",
   "execution_count": 53,
   "metadata": {
    "colab": {
     "base_uri": "https://localhost:8080/",
     "height": 191
    },
    "colab_type": "code",
    "id": "SWoHrxP6XiHf",
    "outputId": "78655289-7492-4468-fa61-45965e806222"
   },
   "outputs": [
    {
     "data": {
      "text/html": [
       "<div>\n",
       "<style scoped>\n",
       "    .dataframe tbody tr th:only-of-type {\n",
       "        vertical-align: middle;\n",
       "    }\n",
       "\n",
       "    .dataframe tbody tr th {\n",
       "        vertical-align: top;\n",
       "    }\n",
       "\n",
       "    .dataframe thead th {\n",
       "        text-align: right;\n",
       "    }\n",
       "</style>\n",
       "<table border=\"1\" class=\"dataframe\">\n",
       "  <thead>\n",
       "    <tr style=\"text-align: right;\">\n",
       "      <th></th>\n",
       "      <th>State</th>\n",
       "      <th>County</th>\n",
       "      <th>ICU Total Beds</th>\n",
       "      <th>Total Beds</th>\n",
       "    </tr>\n",
       "  </thead>\n",
       "  <tbody>\n",
       "    <tr>\n",
       "      <th>0</th>\n",
       "      <td>AK</td>\n",
       "      <td>ANCHORAGE</td>\n",
       "      <td>46.0</td>\n",
       "      <td>704.0</td>\n",
       "    </tr>\n",
       "    <tr>\n",
       "      <th>1</th>\n",
       "      <td>AK</td>\n",
       "      <td>BETHEL</td>\n",
       "      <td>0.0</td>\n",
       "      <td>34.0</td>\n",
       "    </tr>\n",
       "    <tr>\n",
       "      <th>2</th>\n",
       "      <td>AK</td>\n",
       "      <td>CORDOVA</td>\n",
       "      <td>0.0</td>\n",
       "      <td>13.0</td>\n",
       "    </tr>\n",
       "    <tr>\n",
       "      <th>3</th>\n",
       "      <td>AK</td>\n",
       "      <td>DILLINGHAM</td>\n",
       "      <td>0.0</td>\n",
       "      <td>18.0</td>\n",
       "    </tr>\n",
       "    <tr>\n",
       "      <th>4</th>\n",
       "      <td>AK</td>\n",
       "      <td>JUNEAU BOROUGH</td>\n",
       "      <td>9.0</td>\n",
       "      <td>45.0</td>\n",
       "    </tr>\n",
       "  </tbody>\n",
       "</table>\n",
       "</div>"
      ],
      "text/plain": [
       "  State          County  ICU Total Beds  Total Beds\n",
       "0    AK       ANCHORAGE            46.0       704.0\n",
       "1    AK          BETHEL             0.0        34.0\n",
       "2    AK         CORDOVA             0.0        13.0\n",
       "3    AK      DILLINGHAM             0.0        18.0\n",
       "4    AK  JUNEAU BOROUGH             9.0        45.0"
      ]
     },
     "execution_count": 53,
     "metadata": {},
     "output_type": "execute_result"
    }
   ],
   "source": [
    "hosp_county_gdf.head()"
   ]
  },
  {
   "cell_type": "code",
   "execution_count": 54,
   "metadata": {
    "colab": {
     "base_uri": "https://localhost:8080/",
     "height": 196
    },
    "colab_type": "code",
    "id": "cEbavGVVZzW_",
    "outputId": "f72ef9be-1da5-4988-9df1-ddac7aac2d70"
   },
   "outputs": [
    {
     "name": "stdout",
     "output_type": "stream",
     "text": [
      "--2020-03-18 20:35:22--  https://eric.clst.org/assets/wiki/uploads/Stuff/gz_2010_us_050_00_20m.json\n",
      "Resolving eric.clst.org (eric.clst.org)... 69.163.226.135\n",
      "Connecting to eric.clst.org (eric.clst.org)|69.163.226.135|:443... connected.\n",
      "HTTP request sent, awaiting response... 200 OK\n",
      "Length: 3436530 (3.3M) [application/json]\n",
      "Saving to: ‘gz_2010_us_050_00_20m.json.1’\n",
      "\n",
      "gz_2010_us_050_00_2 100%[===================>]   3.28M  2.84MB/s    in 1.2s    \n",
      "\n",
      "2020-03-18 20:35:24 (2.84 MB/s) - ‘gz_2010_us_050_00_20m.json.1’ saved [3436530/3436530]\n",
      "\n"
     ]
    }
   ],
   "source": [
    "# thank you https://eric.clst.org/tech/usgeojson/\n",
    "!wget https://eric.clst.org/assets/wiki/uploads/Stuff/gz_2010_us_050_00_20m.json"
   ]
  },
  {
   "cell_type": "code",
   "execution_count": 55,
   "metadata": {
    "colab": {},
    "colab_type": "code",
    "id": "Wxeuhx_DgQT_"
   },
   "outputs": [],
   "source": [
    "import json, os\n",
    "\n",
    "us_county_path = 'gz_2010_us_050_00_20m.json'\n",
    "cur_json = json.load(open(us_county_path, encoding='ISO-8859-1'))\n",
    "\n",
    "path,ext = os.path.splitext(us_county_path)\n",
    "new_path =path+\"_new\"+ext\n",
    "with open(new_path,\"w\", encoding='utf-8') as jsonfile:\n",
    "        json.dump(cur_json,jsonfile,ensure_ascii=False)\n",
    "us_county = gpd.read_file(new_path, driver='GeoJSON')"
   ]
  },
  {
   "cell_type": "code",
   "execution_count": 56,
   "metadata": {
    "colab": {
     "base_uri": "https://localhost:8080/",
     "height": 113
    },
    "colab_type": "code",
    "id": "bGD3p1XyglNd",
    "outputId": "58bec7ca-dc84-4306-c854-8f62091b0c16"
   },
   "outputs": [
    {
     "data": {
      "text/plain": [
       "<matplotlib.axes._subplots.AxesSubplot at 0x7fc05a603070>"
      ]
     },
     "execution_count": 56,
     "metadata": {},
     "output_type": "execute_result"
    },
    {
     "data": {
      "image/png": "[encoded data removed]",
      "text/plain": [
       "<Figure size 432x288 with 1 Axes>"
      ]
     },
     "metadata": {
      "needs_background": "light"
     },
     "output_type": "display_data"
    }
   ],
   "source": [
    "us_county.plot()"
   ]
  },
  {
   "cell_type": "code",
   "execution_count": 65,
   "metadata": {
    "colab": {
     "base_uri": "https://localhost:8080/",
     "height": 126
    },
    "colab_type": "code",
    "id": "tsF2Ab1bg6of",
    "outputId": "b9048f0a-527f-4998-a5c8-3b6274b5143a"
   },
   "outputs": [
    {
     "data": {
      "text/html": [
       "<div>\n",
       "<style scoped>\n",
       "    .dataframe tbody tr th:only-of-type {\n",
       "        vertical-align: middle;\n",
       "    }\n",
       "\n",
       "    .dataframe tbody tr th {\n",
       "        vertical-align: top;\n",
       "    }\n",
       "\n",
       "    .dataframe thead th {\n",
       "        text-align: right;\n",
       "    }\n",
       "</style>\n",
       "<table border=\"1\" class=\"dataframe\">\n",
       "  <thead>\n",
       "    <tr style=\"text-align: right;\">\n",
       "      <th></th>\n",
       "      <th>PROVIDER_NUMBER</th>\n",
       "      <th>FYB</th>\n",
       "      <th>FYE</th>\n",
       "      <th>STATUS</th>\n",
       "      <th>CTRL_TYPE</th>\n",
       "      <th>HOSP10_Name</th>\n",
       "      <th>Street_Addr</th>\n",
       "      <th>PO_Box</th>\n",
       "      <th>City</th>\n",
       "      <th>State</th>\n",
       "      <th>...</th>\n",
       "      <th>Coronary Care Unit Inpt Days</th>\n",
       "      <th>Burn ICU Inpt Days</th>\n",
       "      <th>Surgical ICU Inpt Days</th>\n",
       "      <th>Total Inpt Days</th>\n",
       "      <th>ICU Total Beds</th>\n",
       "      <th>ICU Total Bed Days Available</th>\n",
       "      <th>ICU Total Inpt Days</th>\n",
       "      <th>ICU Occupancy Rate</th>\n",
       "      <th>Total Bed Occupancy Rate</th>\n",
       "      <th>geometry</th>\n",
       "    </tr>\n",
       "  </thead>\n",
       "  <tbody>\n",
       "    <tr>\n",
       "      <th>6529</th>\n",
       "      <td>660001</td>\n",
       "      <td>01-OCT-17</td>\n",
       "      <td>30-SEP-18</td>\n",
       "      <td>As Submitted</td>\n",
       "      <td>13</td>\n",
       "      <td>COMMONWEALTH HEALTH CENTER</td>\n",
       "      <td>LOWER NAVY HILL RD</td>\n",
       "      <td>409 CK</td>\n",
       "      <td>SAIPAN</td>\n",
       "      <td>MP</td>\n",
       "      <td>...</td>\n",
       "      <td>0.0</td>\n",
       "      <td>0.0</td>\n",
       "      <td>0.0</td>\n",
       "      <td>17728.0</td>\n",
       "      <td>4.0</td>\n",
       "      <td>1460.0</td>\n",
       "      <td>918.0</td>\n",
       "      <td>0.628767</td>\n",
       "      <td>0.65635</td>\n",
       "      <td>POINT (145.72000 15.21000)</td>\n",
       "    </tr>\n",
       "  </tbody>\n",
       "</table>\n",
       "<p>1 rows × 36 columns</p>\n",
       "</div>"
      ],
      "text/plain": [
       "     PROVIDER_NUMBER        FYB        FYE        STATUS  CTRL_TYPE  \\\n",
       "6529          660001  01-OCT-17  30-SEP-18  As Submitted         13   \n",
       "\n",
       "                     HOSP10_Name         Street_Addr  PO_Box    City State  \\\n",
       "6529  COMMONWEALTH HEALTH CENTER  LOWER NAVY HILL RD  409 CK  SAIPAN    MP   \n",
       "\n",
       "      ... Coronary Care Unit Inpt Days Burn ICU Inpt Days  \\\n",
       "6529  ...                          0.0                0.0   \n",
       "\n",
       "      Surgical ICU Inpt Days  Total Inpt Days  ICU Total Beds  \\\n",
       "6529                     0.0          17728.0             4.0   \n",
       "\n",
       "      ICU Total Bed Days Available  ICU Total Inpt Days  ICU Occupancy Rate  \\\n",
       "6529                        1460.0                918.0            0.628767   \n",
       "\n",
       "      Total Bed Occupancy Rate                    geometry  \n",
       "6529                   0.65635  POINT (145.72000 15.21000)  \n",
       "\n",
       "[1 rows x 36 columns]"
      ]
     },
     "execution_count": 65,
     "metadata": {},
     "output_type": "execute_result"
    }
   ],
   "source": [
    "hosp_gdf[hosp_gdf['State'] == 'MP']"
   ]
  },
  {
   "cell_type": "code",
   "execution_count": null,
   "metadata": {
    "colab": {
     "base_uri": "https://localhost:8080/",
     "height": 471
    },
    "colab_type": "code",
    "id": "IPw6k3LogZjs",
    "outputId": "920851f9-c9ab-4b8f-94b7-c473d79b0c0e"
   },
   "outputs": [],
   "source": [
    "hosp_gdf_countyjoin = gpd.sjoin(hosp_gdf, us_county, how='inner', op='intersects')\n",
    "hosp_gdf_countyjoin.head()"
   ]
  },
  {
   "cell_type": "code",
   "execution_count": null,
   "metadata": {
    "colab": {},
    "colab_type": "code",
    "id": "Tc2bLWjLgi6L"
   },
   "outputs": [],
   "source": [
    "hosp_county_gdf = hosp_gdf_countyjoin.groupby(['STATE','COUNTY','GEO_ID'], as_index='False')['ICU Total Beds', 'Total Beds','Total Bed Days Available','Total Inpt Days', 'ICU Total Bed Days Available', 'ICU Total Inpt Days'].sum().reset_index()"
   ]
  },
  {
   "cell_type": "code",
   "execution_count": null,
   "metadata": {
    "colab": {
     "base_uri": "https://localhost:8080/",
     "height": 33
    },
    "colab_type": "code",
    "id": "uQqXvxGthoDi",
    "outputId": "8eae080f-4f45-4781-a3ef-89f170c5bd07"
   },
   "outputs": [],
   "source": [
    "hosp_county_gdf.shape"
   ]
  },
  {
   "cell_type": "code",
   "execution_count": null,
   "metadata": {
    "colab": {},
    "colab_type": "code",
    "id": "hodewhEZimJn"
   },
   "outputs": [],
   "source": [
    "hosp_county_gdf = pd.merge(hosp_county_gdf, us_county)\n",
    "hosp_county_gdf['ICU Occupancy Rate'] = hosp_county_gdf['ICU Total Inpt Days']/hosp_county_gdf['ICU Total Bed Days Available']\n",
    "hosp_county_gdf['Total Bed Occupancy Rate'] = hosp_county_gdf['Total Inpt Days']/hosp_county_gdf['Total Bed Days Available']"
   ]
  },
  {
   "cell_type": "code",
   "execution_count": null,
   "metadata": {
    "colab": {
     "base_uri": "https://localhost:8080/",
     "height": 305
    },
    "colab_type": "code",
    "id": "t0I7xr1Lin8v",
    "outputId": "7aba8ac5-b1d7-4e1e-b2b2-6765fdb465bf"
   },
   "outputs": [],
   "source": [
    "hosp_county_gdf.head()"
   ]
  },
  {
   "cell_type": "code",
   "execution_count": null,
   "metadata": {
    "colab": {
     "base_uri": "https://localhost:8080/",
     "height": 478
    },
    "colab_type": "code",
    "id": "au5EplPzgoz3",
    "outputId": "b4450f3b-46d6-45d2-84ef-7e1f3be737ad"
   },
   "outputs": [],
   "source": [
    "hosp_county_gdf = gpd.GeoDataFrame(hosp_county_gdf, crs=4326)\n",
    "hosp_county_gdf.plot(figsize=(15,15))"
   ]
  },
  {
   "cell_type": "code",
   "execution_count": null,
   "metadata": {
    "colab": {
     "base_uri": "https://localhost:8080/",
     "height": 196
    },
    "colab_type": "code",
    "id": "hGEI8PTchNVo",
    "outputId": "404e3e95-0baa-415c-8904-d51e45bc2638"
   },
   "outputs": [],
   "source": [
    "# get latest census data for population demographics by us county at https://www.census.gov/data/tables/time-series/demo/popest/2010s-counties-detail.html\n",
    "# data description here: https://www2.census.gov/programs-surveys/popest/technical-documentation/file-layouts/2010-2018/cc-est2018-alldata.pdf\n",
    "\n",
    "!wget https://www2.census.gov/programs-surveys/popest/datasets/2010-2018/counties/asrh/cc-est2018-alldata.csv"
   ]
  },
  {
   "cell_type": "code",
   "execution_count": null,
   "metadata": {
    "colab": {},
    "colab_type": "code",
    "id": "oku_VBzM70TV"
   },
   "outputs": [],
   "source": [
    "census_df = pd.read_csv('cc-est2018-alldata.csv', encoding='unicode_escape')"
   ]
  },
  {
   "cell_type": "code",
   "execution_count": null,
   "metadata": {
    "colab": {
     "base_uri": "https://localhost:8080/",
     "height": 292
    },
    "colab_type": "code",
    "id": "giFNY8ZU73gA",
    "outputId": "cf0fdc97-ca63-4885-8f62-f1a10da42ba0"
   },
   "outputs": [],
   "source": [
    "census_df.head()"
   ]
  },
  {
   "cell_type": "code",
   "execution_count": null,
   "metadata": {
    "colab": {},
    "colab_type": "code",
    "id": "sOnNaOkO88lW"
   },
   "outputs": [],
   "source": [
    "census_df['fips_code'] = census_df['STATE'].apply(lambda x: str(x).zfill(2)) + census_df['COUNTY'].apply(lambda x: str(x).zfill(3))"
   ]
  },
  {
   "cell_type": "code",
   "execution_count": null,
   "metadata": {
    "colab": {
     "base_uri": "https://localhost:8080/",
     "height": 320
    },
    "colab_type": "code",
    "id": "gH2zBpVQ9G5j",
    "outputId": "d40c425b-35f5-46c6-811c-c642a5120911"
   },
   "outputs": [],
   "source": [
    "census_df.head()"
   ]
  },
  {
   "cell_type": "code",
   "execution_count": null,
   "metadata": {
    "colab": {
     "base_uri": "https://localhost:8080/",
     "height": 320
    },
    "colab_type": "code",
    "id": "PnGCodBM8EVs",
    "outputId": "68e943a3-5c13-4441-bfeb-b9fa65402029"
   },
   "outputs": [],
   "source": [
    "# YEAR 11 = 7/1/2018 population estimate\n",
    "census_df[census_df['YEAR'] == 11].head()"
   ]
  },
  {
   "cell_type": "code",
   "execution_count": null,
   "metadata": {
    "colab": {},
    "colab_type": "code",
    "id": "lCiSfjAP8s-6"
   },
   "outputs": [],
   "source": [
    "census2018_df = census_df[census_df['YEAR'] == 11]"
   ]
  },
  {
   "cell_type": "code",
   "execution_count": null,
   "metadata": {
    "colab": {},
    "colab_type": "code",
    "id": "PdeFUW728S-g"
   },
   "outputs": [],
   "source": [
    "# pop of 15+ year olds by county\n",
    "# AGEGRP 4 = Age 15 to 19 years\n",
    "# AGEGRP 0 = All, need to exclude or double counts\n",
    "adult_totpop_countywise = census2018_df[census2018_df['AGEGRP']>=4].groupby(['fips_code'])['TOT_POP'].sum()\n",
    "all_totpop_countywise = census2018_df[census2018_df['AGEGRP']>=1].groupby(['fips_code'])['TOT_POP'].sum()"
   ]
  },
  {
   "cell_type": "code",
   "execution_count": null,
   "metadata": {
    "colab": {
     "base_uri": "https://localhost:8080/",
     "height": 33
    },
    "colab_type": "code",
    "id": "9JMc7bB28k7p",
    "outputId": "de5437de-2754-4ff8-f114-17cd9fb08c52"
   },
   "outputs": [],
   "source": [
    "adult_totpop_countywise.sum(), all_totpop_countywise.sum() "
   ]
  },
  {
   "cell_type": "code",
   "execution_count": null,
   "metadata": {
    "colab": {
     "base_uri": "https://localhost:8080/",
     "height": 228
    },
    "colab_type": "code",
    "id": "Q0pB7s9nCel9",
    "outputId": "c65bd730-e0ec-4599-e755-3cd5f172dc24"
   },
   "outputs": [],
   "source": [
    "adult_totpop_countywise"
   ]
  },
  {
   "cell_type": "code",
   "execution_count": null,
   "metadata": {
    "colab": {
     "base_uri": "https://localhost:8080/",
     "height": 33
    },
    "colab_type": "code",
    "id": "67f25E2FC8dz",
    "outputId": "56ae3fbc-a8a8-4962-8b12-662ad4d6f0b2"
   },
   "outputs": [],
   "source": [
    "hosp_county_gdf.shape"
   ]
  },
  {
   "cell_type": "code",
   "execution_count": null,
   "metadata": {
    "colab": {},
    "colab_type": "code",
    "id": "hD6D_ERH-0rp"
   },
   "outputs": [],
   "source": [
    "hosp_county_gdf['fips_code'] = hosp_county_gdf['GEO_ID'].apply(lambda x: x[-5:])"
   ]
  },
  {
   "cell_type": "code",
   "execution_count": null,
   "metadata": {
    "colab": {},
    "colab_type": "code",
    "id": "zYfMi_kTCS52"
   },
   "outputs": [],
   "source": [
    "hosp_county_census_gdf = hosp_county_gdf.join(adult_totpop_countywise, how='inner', on='fips_code')\n",
    "hosp_county_census_gdf.rename({'TOT_POP':'15 and Older Population'}, axis=1, inplace=True)"
   ]
  },
  {
   "cell_type": "code",
   "execution_count": null,
   "metadata": {
    "colab": {},
    "colab_type": "code",
    "id": "vKHvsmN2HTR1"
   },
   "outputs": [],
   "source": [
    "hosp_county_census_gdf = hosp_county_census_gdf.join(all_totpop_countywise, how='inner', on='fips_code')\n",
    "hosp_county_census_gdf.rename({'TOT_POP':'All Population'}, axis=1, inplace=True)"
   ]
  },
  {
   "cell_type": "code",
   "execution_count": null,
   "metadata": {
    "colab": {
     "base_uri": "https://localhost:8080/",
     "height": 548
    },
    "colab_type": "code",
    "id": "fJA5Qiy2Hu-8",
    "outputId": "8770ec4d-6a26-4639-a263-ea597c7422c6"
   },
   "outputs": [],
   "source": [
    "hosp_county_census_gdf.head()"
   ]
  },
  {
   "cell_type": "code",
   "execution_count": null,
   "metadata": {
    "colab": {
     "base_uri": "https://localhost:8080/",
     "height": 617
    },
    "colab_type": "code",
    "id": "UsEnVTNR_zLs",
    "outputId": "efdea662-e24a-41f9-a912-71e89527a9f9"
   },
   "outputs": [],
   "source": [
    "hosp_county_census_gdf['ICU Beds per 1000 Adults (15+)'] = hosp_county_census_gdf['ICU Total Beds']/(hosp_county_census_gdf['15 and Older Population']/1000)\n",
    "hosp_county_census_gdf['Total Beds per 1000 Adults (15+)'] = hosp_county_census_gdf['Total Beds']/(hosp_county_census_gdf['15 and Older Population']/1000)\n",
    "hosp_county_census_gdf['ICU Beds per 1000 People'] = hosp_county_census_gdf['ICU Total Beds']/(hosp_county_census_gdf['All Population']/1000)\n",
    "hosp_county_census_gdf['Total Beds per 1000 People'] = hosp_county_census_gdf['Total Beds']/(hosp_county_census_gdf['All Population']/1000)\n",
    "hosp_county_census_gdf.head()"
   ]
  },
  {
   "cell_type": "code",
   "execution_count": null,
   "metadata": {
    "colab": {
     "base_uri": "https://localhost:8080/",
     "height": 33
    },
    "colab_type": "code",
    "id": "LBrZf5AoAJi5",
    "outputId": "a6e16a4f-e2c5-4575-c1d8-996746893c01"
   },
   "outputs": [],
   "source": [
    "# sanity check\n",
    "hosp_county_census_gdf['ICU Total Beds'].sum() / (hosp_county_census_gdf['All Population'].sum()/100000)"
   ]
  },
  {
   "cell_type": "code",
   "execution_count": null,
   "metadata": {
    "colab": {
     "base_uri": "https://localhost:8080/",
     "height": 33
    },
    "colab_type": "code",
    "id": "al8eVbYRFDi5",
    "outputId": "5ddf2b27-cda8-4a31-ea45-827e5a9288de"
   },
   "outputs": [],
   "source": [
    "hosp_county_census_gdf['Total Beds'].sum() / (hosp_county_census_gdf['All Population'].sum()/1000)"
   ]
  },
  {
   "cell_type": "markdown",
   "metadata": {
    "colab_type": "text",
    "id": "5z5JrJjSFNLr"
   },
   "source": [
    "## Check bed stats against:\n",
    "\n",
    "https://www.kff.org/other/state-indicator/beds-by-ownership/?currentTimeframe=0&sortModel=%7B%22colId%22:%22Location%22,%22sort%22:%22asc%22%7D\n",
    "\n",
    "- 2.4 staffed beds per 1,000 pop across USA\n",
    "\n",
    "https://www.sccm.org/Communications/Critical-Care-Statistics\n",
    "\n",
    "AHA data: According to the AHA 2015 annual survey, the United States had \n",
    "- 4862 acute care registered hospitals; \n",
    "  - 2814 of these had at least 10 acute care beds and at least 1 ICU bed. \n",
    "- These hospitals had a total of 540,668 staffed beds and 94,837 ICU beds (14.3% ICU beds/total beds) in 5229 ICUs. \n",
    "  - There were 46,490 medical-surgical beds in 2644 units, \n",
    "  - 14,731 cardiac beds in 976 units, \n",
    "  - 6588 other beds in 379 units, \n",
    "  - 4698 pediatric beds in 307 units, and \n",
    "  - 22,330 neonatal beds in 920 units. \n",
    "- The median number of beds in medical-surgical, cardiac, and other units was 12, with 10 beds in pediatrics and 18 in neonatal. Fifty-two percent of hospitals had 1 unit, 24% had 2 units, and 24% had 3 or more units.\n",
    "\n",
    "HCRIS data: \n",
    "- In 2010 there were 2977 acute care hospitals with ICU beds. \n",
    "- In these, there were 641,395 total acute care beds with 103,900 ICU beds (16.2% ICU beds/total beds). \n",
    "- From 2000 to 2010, the number of critical care beds in the United States increased by 17.8%, from 88,235 to 103,900. However, the majority of the growth in critical care bed supply is occurring in a small number of U.S. regions that tend to have large populations, fewer baseline ICUs per 100,000 capita, higher baseline ICU occupancy, and increased market competition. Additionally, between 2000 and 2010, the greatest percentage increases were in neonatal beds (29%), followed by adult beds (26%); there were minimal changes in pediatric beds (2.7%). \n",
    "- Of the 103,900 ICU beds in 2010, \n",
    "  - 83,417 (80.3%) were adult, \n",
    "  - 1917 (1.8%) were pediatric, and \n",
    "  - 18,567 (17.9%) were neonatal. \n",
    "- In total, there were 33.6 beds per 100,000 population, \n",
    "  - 35.5 beds per 100,000 adult beds (age > 18 years), \n",
    "  - 2.7 beds/100,000 pediatric beds (age 1-17 years), \n",
    "  - and 470 beds/100,000 neonatal beds (age < 1 year).\n",
    "\n",
    "ICU days: HCRIS analysis showed that there were 150.9 million hospital days, including 25 million ICU days in 2010 (16.5% ICU days/total days). Medicare accounted for 7.9 million ICU days (31.4%) and Medicaid 4.3 million ICU days (17.2%).\n",
    "\n",
    "Occupancy: Occupancy rates were calculated from HCRIS (days/possible days) data. In 2010, hospital and ICU occupancy rates were 64.6% and 68%, respectively. Occupancy rates vary by hospital size, with higher occupancy rates associated with larger hospitals."
   ]
  },
  {
   "cell_type": "code",
   "execution_count": null,
   "metadata": {
    "colab": {},
    "colab_type": "code",
    "id": "ARN2nfkyDblx"
   },
   "outputs": [],
   "source": [
    "hosp_county_census_gdf.to_file('usa_county_hospital_bedcapacity2018.geojson', driver='GeoJSON')"
   ]
  },
  {
   "cell_type": "code",
   "execution_count": null,
   "metadata": {
    "colab": {},
    "colab_type": "code",
    "id": "g866SL2Y7Aco"
   },
   "outputs": [],
   "source": [
    "hosp_county_census_gdf.to_csv('usa_county_hospital_bedcapacity2018.csv')"
   ]
  },
  {
   "cell_type": "code",
   "execution_count": null,
   "metadata": {
    "colab": {},
    "colab_type": "code",
    "id": "8nOiLUeXIfVQ"
   },
   "outputs": [],
   "source": []
  }
 ],
 "metadata": {
  "colab": {
   "authorship_tag": "ABX9TyNRWzgoB54ksCkk0fyaVGIz",
   "include_colab_link": true,
   "name": "usa_beds_capacity_analysis_20200313_v2.ipynb",
   "provenance": []
  },
  "kernelspec": {
   "display_name": "Python 3",
   "language": "python",
   "name": "python3"
  },
  "language_info": {
   "codemirror_mode": {
    "name": "ipython",
    "version": 3
   },
   "file_extension": ".py",
   "mimetype": "text/x-python",
   "name": "python",
   "nbconvert_exporter": "python",
   "pygments_lexer": "ipython3",
   "version": "3.8.2"
  }
 },
 "nbformat": 4,
 "nbformat_minor": 1
}
